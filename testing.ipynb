{
 "cells": [
  {
   "cell_type": "code",
   "execution_count": 74,
   "metadata": {},
   "outputs": [],
   "source": [
    "import dataprepkit as dpk\n"
   ]
  },
  {
   "cell_type": "code",
   "execution_count": 75,
   "metadata": {},
   "outputs": [],
   "source": [
    "df = dpk.read_data(\"AirbnbListingEDA.csv\",\"csv\")"
   ]
  },
  {
   "cell_type": "code",
   "execution_count": 76,
   "metadata": {},
   "outputs": [
    {
     "data": {
      "text/html": [
       "<div>\n",
       "<style scoped>\n",
       "    .dataframe tbody tr th:only-of-type {\n",
       "        vertical-align: middle;\n",
       "    }\n",
       "\n",
       "    .dataframe tbody tr th {\n",
       "        vertical-align: top;\n",
       "    }\n",
       "\n",
       "    .dataframe thead th {\n",
       "        text-align: right;\n",
       "    }\n",
       "</style>\n",
       "<table border=\"1\" class=\"dataframe\">\n",
       "  <thead>\n",
       "    <tr style=\"text-align: right;\">\n",
       "      <th></th>\n",
       "      <th>id</th>\n",
       "      <th>name</th>\n",
       "      <th>host_id</th>\n",
       "      <th>host_name</th>\n",
       "      <th>neighbourhood_group</th>\n",
       "      <th>neighbourhood</th>\n",
       "      <th>latitude</th>\n",
       "      <th>longitude</th>\n",
       "      <th>room_type</th>\n",
       "      <th>price</th>\n",
       "      <th>minimum_nights</th>\n",
       "      <th>number_of_reviews</th>\n",
       "      <th>last_review</th>\n",
       "      <th>reviews_per_month</th>\n",
       "      <th>calculated_host_listings_count</th>\n",
       "      <th>availability_365</th>\n",
       "      <th>number_of_reviews_ltm</th>\n",
       "      <th>license</th>\n",
       "    </tr>\n",
       "  </thead>\n",
       "  <tbody>\n",
       "    <tr>\n",
       "      <th>0</th>\n",
       "      <td>1489424.0</td>\n",
       "      <td>Welcoming, easygoing, comfy bed, entire level</td>\n",
       "      <td>5294164</td>\n",
       "      <td>Efrat</td>\n",
       "      <td>NaN</td>\n",
       "      <td>FOURTEENTH WARD</td>\n",
       "      <td>42.66719</td>\n",
       "      <td>-73.81580</td>\n",
       "      <td>Private room</td>\n",
       "      <td>50.0</td>\n",
       "      <td>1</td>\n",
       "      <td>242</td>\n",
       "      <td>2/10/2024</td>\n",
       "      <td>1.91</td>\n",
       "      <td>1</td>\n",
       "      <td>0</td>\n",
       "      <td>48</td>\n",
       "      <td>NaN</td>\n",
       "    </tr>\n",
       "    <tr>\n",
       "      <th>1</th>\n",
       "      <td>2992450.0</td>\n",
       "      <td>Luxury 2 bedroom apartment</td>\n",
       "      <td>4621559</td>\n",
       "      <td>Kenneth</td>\n",
       "      <td>NaN</td>\n",
       "      <td>THIRD WARD</td>\n",
       "      <td>42.65789</td>\n",
       "      <td>-73.75370</td>\n",
       "      <td>Entire home/apt</td>\n",
       "      <td>70.0</td>\n",
       "      <td>28</td>\n",
       "      <td>9</td>\n",
       "      <td>8/17/2022</td>\n",
       "      <td>0.08</td>\n",
       "      <td>1</td>\n",
       "      <td>349</td>\n",
       "      <td>0</td>\n",
       "      <td>NaN</td>\n",
       "    </tr>\n",
       "    <tr>\n",
       "      <th>2</th>\n",
       "      <td>3820211.0</td>\n",
       "      <td>Restored Precinct in Center Sq. w/Parking</td>\n",
       "      <td>19648678</td>\n",
       "      <td>Terra</td>\n",
       "      <td>NaN</td>\n",
       "      <td>SIXTH WARD</td>\n",
       "      <td>42.65222</td>\n",
       "      <td>-73.76724</td>\n",
       "      <td>Entire home/apt</td>\n",
       "      <td>125.0</td>\n",
       "      <td>2</td>\n",
       "      <td>291</td>\n",
       "      <td>11/19/2023</td>\n",
       "      <td>2.52</td>\n",
       "      <td>4</td>\n",
       "      <td>357</td>\n",
       "      <td>8</td>\n",
       "      <td>NaN</td>\n",
       "    </tr>\n",
       "    <tr>\n",
       "      <th>3</th>\n",
       "      <td>5651579.0</td>\n",
       "      <td>Large studio apt  by Capital Center &amp; ESP@</td>\n",
       "      <td>29288920</td>\n",
       "      <td>Gregg</td>\n",
       "      <td>NaN</td>\n",
       "      <td>SECOND WARD</td>\n",
       "      <td>42.64615</td>\n",
       "      <td>-73.75966</td>\n",
       "      <td>Entire home/apt</td>\n",
       "      <td>68.0</td>\n",
       "      <td>2</td>\n",
       "      <td>333</td>\n",
       "      <td>2/1/2024</td>\n",
       "      <td>3.12</td>\n",
       "      <td>2</td>\n",
       "      <td>148</td>\n",
       "      <td>28</td>\n",
       "      <td>NaN</td>\n",
       "    </tr>\n",
       "    <tr>\n",
       "      <th>4</th>\n",
       "      <td>6623339.0</td>\n",
       "      <td>Center Sq. Loft in Converted Precinct w/ Parking</td>\n",
       "      <td>19648678</td>\n",
       "      <td>Terra</td>\n",
       "      <td>NaN</td>\n",
       "      <td>SIXTH WARD</td>\n",
       "      <td>42.65222</td>\n",
       "      <td>-73.76724</td>\n",
       "      <td>Entire home/apt</td>\n",
       "      <td>140.0</td>\n",
       "      <td>1</td>\n",
       "      <td>306</td>\n",
       "      <td>12/26/2023</td>\n",
       "      <td>2.89</td>\n",
       "      <td>4</td>\n",
       "      <td>0</td>\n",
       "      <td>5</td>\n",
       "      <td>NaN</td>\n",
       "    </tr>\n",
       "  </tbody>\n",
       "</table>\n",
       "</div>"
      ],
      "text/plain": [
       "          id                                              name   host_id host_name  neighbourhood_group    neighbourhood  latitude  longitude        room_type  price  minimum_nights  number_of_reviews last_review  reviews_per_month  calculated_host_listings_count  availability_365  number_of_reviews_ltm  license\n",
       "0  1489424.0     Welcoming, easygoing, comfy bed, entire level   5294164     Efrat                  NaN  FOURTEENTH WARD  42.66719  -73.81580     Private room   50.0               1                242   2/10/2024               1.91                               1                 0                     48      NaN\n",
       "1  2992450.0                        Luxury 2 bedroom apartment   4621559   Kenneth                  NaN       THIRD WARD  42.65789  -73.75370  Entire home/apt   70.0              28                  9   8/17/2022               0.08                               1               349                      0      NaN\n",
       "2  3820211.0         Restored Precinct in Center Sq. w/Parking  19648678     Terra                  NaN       SIXTH WARD  42.65222  -73.76724  Entire home/apt  125.0               2                291  11/19/2023               2.52                               4               357                      8      NaN\n",
       "3  5651579.0        Large studio apt  by Capital Center & ESP@  29288920     Gregg                  NaN      SECOND WARD  42.64615  -73.75966  Entire home/apt   68.0               2                333    2/1/2024               3.12                               2               148                     28      NaN\n",
       "4  6623339.0  Center Sq. Loft in Converted Precinct w/ Parking  19648678     Terra                  NaN       SIXTH WARD  42.65222  -73.76724  Entire home/apt  140.0               1                306  12/26/2023               2.89                               4                 0                      5      NaN"
      ]
     },
     "execution_count": 76,
     "metadata": {},
     "output_type": "execute_result"
    }
   ],
   "source": [
    "df.head()"
   ]
  },
  {
   "cell_type": "code",
   "execution_count": 77,
   "metadata": {},
   "outputs": [
    {
     "name": "stdout",
     "output_type": "stream",
     "text": [
      "summary of numeric attribute:\n",
      "                  id       host_id  neighbourhood_group    latitude   longitude        price  minimum_nights  number_of_reviews  reviews_per_month  calculated_host_listings_count  availability_365  number_of_reviews_ltm  license\n",
      "count  4.070000e+02  4.070000e+02                  0.0  407.000000  407.000000   364.000000      407.000000         407.000000         360.000000                      407.000000        407.000000             407.000000      0.0\n",
      "mean   5.043183e+17  2.252770e+08                  NaN   42.657571  -73.776805   125.203297        5.336609          53.734644           1.983972                        4.783784        203.621622              16.088452      NaN\n",
      "std    4.242364e+17  1.804499e+08                  NaN    0.009792    0.019578   135.585710       21.620830          97.440513           1.989692                        4.772915        134.340734              21.794767      NaN\n",
      "min    1.489424e+06  6.490680e+05                  NaN   42.630660  -73.876489    26.000000        1.000000           0.000000           0.050000                        1.000000          0.000000               0.000000      NaN\n",
      "25%    4.734039e+07  4.762598e+07                  NaN   42.652045  -73.790363    75.000000        1.000000           4.000000           0.520000                        1.000000         77.000000               1.000000      NaN\n",
      "50%    6.686080e+17  1.886791e+08                  NaN   42.657300  -73.773513   100.000000        2.000000          15.000000           1.310000                        3.000000        248.000000               7.000000      NaN\n",
      "75%    9.004550e+17  3.920749e+08                  NaN   42.662410  -73.761990   131.250000        3.000000          59.500000           2.722500                        6.000000        325.500000              22.000000      NaN\n",
      "max    1.079740e+18  5.531120e+08                  NaN   42.714896  -73.738103  1750.000000      365.000000         770.000000          11.120000                       19.000000        365.000000             131.000000      NaN \n",
      "\n",
      "summary of object attribute:\n",
      "                                  name host_name neighbourhood        room_type last_review\n",
      "count                             407       407           407              407         360\n",
      "unique                            406       178            15                3         166\n",
      "top     Lovely private room in Albany     Diana    SIXTH WARD  Entire home/apt   1/28/2024\n",
      "freq                                2        22            86              285          13 \n",
      "\n"
     ]
    }
   ],
   "source": [
    "\n",
    "dpk.summary(df)"
   ]
  },
  {
   "cell_type": "code",
   "execution_count": 78,
   "metadata": {},
   "outputs": [],
   "source": [
    "df = df.drop([\"neighbourhood_group\",\"latitude\",\"longitude\",\"license\"], axis=1)"
   ]
  },
  {
   "cell_type": "code",
   "execution_count": 80,
   "metadata": {},
   "outputs": [
    {
     "data": {
      "text/plain": [
       "id                                 0\n",
       "name                               0\n",
       "host_id                            0\n",
       "host_name                          0\n",
       "neighbourhood                      0\n",
       "room_type                          0\n",
       "price                             43\n",
       "minimum_nights                     0\n",
       "number_of_reviews                  0\n",
       "last_review                       47\n",
       "reviews_per_month                 47\n",
       "calculated_host_listings_count     0\n",
       "availability_365                   0\n",
       "number_of_reviews_ltm              0\n",
       "dtype: int64"
      ]
     },
     "execution_count": 80,
     "metadata": {},
     "output_type": "execute_result"
    }
   ],
   "source": [
    "df.isna().sum()"
   ]
  },
  {
   "cell_type": "code",
   "execution_count": 83,
   "metadata": {},
   "outputs": [
    {
     "data": {
      "text/plain": [
       "0"
      ]
     },
     "execution_count": 83,
     "metadata": {},
     "output_type": "execute_result"
    }
   ],
   "source": [
    "dpk.handle_missing_values(df[\"price\"], \"fill\",\"median\")\n",
    "df[\"price\"].isna().sum()"
   ]
  },
  {
   "cell_type": "code",
   "execution_count": 85,
   "metadata": {},
   "outputs": [
    {
     "data": {
      "text/plain": [
       "0"
      ]
     },
     "execution_count": 85,
     "metadata": {},
     "output_type": "execute_result"
    }
   ],
   "source": [
    "dpk.handle_missing_values(df[\"last_review\"],\"fill\",\"mode\")\n",
    "df[\"last_review\"].isna().sum()"
   ]
  },
  {
   "cell_type": "code",
   "execution_count": 88,
   "metadata": {},
   "outputs": [
    {
     "data": {
      "text/plain": [
       "0"
      ]
     },
     "execution_count": 88,
     "metadata": {},
     "output_type": "execute_result"
    }
   ],
   "source": [
    "dpk.handle_missing_values(df[\"reviews_per_month\"],\"fill\",value=0)\n",
    "df[\"reviews_per_month\"].isna().sum()"
   ]
  },
  {
   "cell_type": "code",
   "execution_count": 89,
   "metadata": {},
   "outputs": [
    {
     "data": {
      "text/plain": [
       "id                                0\n",
       "name                              0\n",
       "host_id                           0\n",
       "host_name                         0\n",
       "neighbourhood                     0\n",
       "room_type                         0\n",
       "price                             0\n",
       "minimum_nights                    0\n",
       "number_of_reviews                 0\n",
       "last_review                       0\n",
       "reviews_per_month                 0\n",
       "calculated_host_listings_count    0\n",
       "availability_365                  0\n",
       "number_of_reviews_ltm             0\n",
       "dtype: int64"
      ]
     },
     "execution_count": 89,
     "metadata": {},
     "output_type": "execute_result"
    }
   ],
   "source": [
    "df.isna().sum()"
   ]
  },
  {
   "cell_type": "code",
   "execution_count": 90,
   "metadata": {},
   "outputs": [],
   "source": [
    "one_hot=dpk.encoding(df,[\"room_type\"],False)"
   ]
  },
  {
   "cell_type": "code",
   "execution_count": 91,
   "metadata": {},
   "outputs": [
    {
     "name": "stdout",
     "output_type": "stream",
     "text": [
      "               id                                              name    host_id host_name    neighbourhood  price  minimum_nights  number_of_reviews last_review  reviews_per_month  calculated_host_listings_count  availability_365  number_of_reviews_ltm  room_type_Private room  room_type_Shared room\n",
      "0    1.489424e+06     Welcoming, easygoing, comfy bed, entire level    5294164     Efrat  FOURTEENTH WARD   50.0               1                242   2/10/2024               1.91                               1                 0                     48                    True                  False\n",
      "1    2.992450e+06                        Luxury 2 bedroom apartment    4621559   Kenneth       THIRD WARD   70.0              28                  9   8/17/2022               0.08                               1               349                      0                   False                  False\n",
      "2    3.820211e+06         Restored Precinct in Center Sq. w/Parking   19648678     Terra       SIXTH WARD  125.0               2                291  11/19/2023               2.52                               4               357                      8                   False                  False\n",
      "3    5.651579e+06        Large studio apt  by Capital Center & ESP@   29288920     Gregg      SECOND WARD   68.0               2                333    2/1/2024               3.12                               2               148                     28                   False                  False\n",
      "4    6.623339e+06  Center Sq. Loft in Converted Precinct w/ Parking   19648678     Terra       SIXTH WARD  140.0               1                306  12/26/2023               2.89                               4                 0                      5                   False                  False\n",
      "..            ...                                               ...        ...       ...              ...    ...             ...                ...         ...                ...                             ...               ...                    ...                     ...                    ...\n",
      "402  1.072780e+18                               The Bluebird’s Nest  426223840   Antonio    ELEVENTH WARD  117.0               1                  0        mode               0.00                               2                 0                      0                   False                  False\n",
      "403  1.073180e+18                            In the heart of Albany   31994990      G.G.     SEVENTH WARD   53.0              30                  0        mode               0.00                               2               271                      0                   False                  False\n",
      "404  1.074650e+18                                    Room available  480004905     Ramiz    ELEVENTH WARD   60.0               1                  0        mode               0.00                               2               269                      0                    True                  False\n",
      "405  1.075440e+18                                The Tangerine Door  542733174   Rebecca     TWELFTH WARD  110.0               2                  1    2/4/2024               1.00                               1               241                      1                   False                  False\n",
      "406  1.079740e+18                  Lark St Oasis: Parking & Laundry  119340359      Lori       SIXTH WARD   98.0              28                  0        mode               0.00                               2               267                      0                   False                  False\n",
      "\n",
      "[407 rows x 15 columns]\n"
     ]
    }
   ],
   "source": [
    "print(one_hot)"
   ]
  },
  {
   "cell_type": "code",
   "execution_count": 92,
   "metadata": {},
   "outputs": [],
   "source": [
    "dpk.encoding(df,\"room_type\",True)"
   ]
  },
  {
   "cell_type": "code",
   "execution_count": 93,
   "metadata": {},
   "outputs": [
    {
     "data": {
      "text/plain": [
       "0      1\n",
       "1      0\n",
       "2      0\n",
       "3      0\n",
       "4      0\n",
       "      ..\n",
       "402    0\n",
       "403    0\n",
       "404    1\n",
       "405    0\n",
       "406    0\n",
       "Name: room_type, Length: 407, dtype: int32"
      ]
     },
     "execution_count": 93,
     "metadata": {},
     "output_type": "execute_result"
    }
   ],
   "source": [
    "df[\"room_type\"]"
   ]
  }
 ],
 "metadata": {
  "kernelspec": {
   "display_name": "Python 3",
   "language": "python",
   "name": "python3"
  },
  "language_info": {
   "codemirror_mode": {
    "name": "ipython",
    "version": 3
   },
   "file_extension": ".py",
   "mimetype": "text/x-python",
   "name": "python",
   "nbconvert_exporter": "python",
   "pygments_lexer": "ipython3",
   "version": "3.10.8"
  }
 },
 "nbformat": 4,
 "nbformat_minor": 2
}
